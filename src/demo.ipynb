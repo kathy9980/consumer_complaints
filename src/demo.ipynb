{
 "cells": [
  {
   "cell_type": "markdown",
   "metadata": {},
   "source": [
    "# This is a test demo for Consumer Complaints (test_1)\n",
    "\n",
    "Author: Kexin Song\n",
    "\n",
    "Date Modified: 04/29/2020"
   ]
  },
  {
   "cell_type": "code",
   "execution_count": 87,
   "metadata": {},
   "outputs": [],
   "source": [
    "import csv, sys\n",
    "import datetime as dt"
   ]
  },
  {
   "cell_type": "markdown",
   "metadata": {},
   "source": [
    "## Step 1. Read input file"
   ]
  },
  {
   "cell_type": "code",
   "execution_count": 89,
   "metadata": {},
   "outputs": [],
   "source": [
    "Date = []\n",
    "Product = []\n",
    "Company = []\n",
    "Year = []   # Acccess from Date.\n",
    "Case = []   # Case includes information about [year, product and company] of each complaint.\n",
    "\n",
    "filename = './input/input.csv'\n",
    "with open(filename, newline='') as f:\n",
    "    reader = csv.reader(f)\n",
    "    header = next(reader)\n",
    "    try:\n",
    "        for row in reader:\n",
    "            \n",
    "            yr = dt.datetime.strptime(row[0],'%m/%d/%Y').year\n",
    "            Year.append(yr)\n",
    "            Product.append(row[1].lower())\n",
    "            Company.append(row[7].lower())\n",
    "            Case.append([yr,row[1].lower(),row[7].lower()])\n",
    "\n",
    "            \n",
    "    except csv.Error as e:\n",
    "        sys.exit('file {}, line {}: {}'.format(filename, reader.line_num, e))\n",
    "\n",
    "    finally:\n",
    "        f.close()\n",
    "\n",
    "\n",
    "Product.sort()  # Product should be sorted alphabetically\n",
    "Year.sort()   # Year should be listed in chronological order\n",
    "Case.sort()"
   ]
  },
  {
   "cell_type": "markdown",
   "metadata": {},
   "source": [
    "## 2. Create dictionaries and have a Look of the keys & values"
   ]
  },
  {
   "cell_type": "code",
   "execution_count": 90,
   "metadata": {},
   "outputs": [
    {
     "name": "stdout",
     "output_type": "stream",
     "text": [
      "{2019: 4, 2020: 1}\n"
     ]
    }
   ],
   "source": [
    "''' Dictionary of Year '''\n",
    "dic_Y = {}\n",
    "for key in Year:\n",
    "    dic_Y[key] = dic_Y.get(key, 0) +1\n",
    "\n",
    "print(dic_Y)"
   ]
  },
  {
   "cell_type": "code",
   "execution_count": 91,
   "metadata": {},
   "outputs": [
    {
     "name": "stdout",
     "output_type": "stream",
     "text": [
      "{'credit reporting, credit repair services, or other personal consumer reports': 4, 'debt collection': 1}\n"
     ]
    }
   ],
   "source": [
    "''' Dictionary of Product'''\n",
    "dic_P = {}\n",
    "for key in Product:\n",
    "    dic_P[key] = dic_P.get(key, 0) + 1\n",
    "    \n",
    "print(dic_P)"
   ]
  },
  {
   "cell_type": "markdown",
   "metadata": {},
   "source": [
    "## Step 3. Data analysis and save the output\n",
    "### Tasks: \n",
    "1. total number of complaints received for that product and year \n",
    "2. total number of companies receiving at least one complaint for that product and year \n",
    "3. highest percentage (rounded to the nearest whole number) of total complaints filed against one company for that product and year\n"
   ]
  },
  {
   "cell_type": "code",
   "execution_count": 92,
   "metadata": {},
   "outputs": [
    {
     "name": "stdout",
     "output_type": "stream",
     "text": [
      "\"credit reporting, credit repair services, or other personal consumer reports\" 2019 3 2 67\n",
      "\"credit reporting, credit repair services, or other personal consumer reports\" 2020 1 1 100\n",
      "debt collection 2019 1 1 100\n"
     ]
    }
   ],
   "source": [
    "''' Loop 1. Product'''\n",
    "for key_P in dic_P.keys():\n",
    "        \n",
    "    ''' Loop 2. Year'''\n",
    "    for key_Y in dic_Y.keys():\n",
    "        \n",
    "        num = 0    # Task1: total number of complaints received for that product and year.\n",
    "        company = []   # company name.\n",
    "        for data in Case:\n",
    "            \n",
    "            if data[0] == key_Y and data[1] == key_P:\n",
    "                num = num +1\n",
    "                company.append(data[2])\n",
    "                \n",
    "        if num !=0:   \n",
    "            \n",
    "            ## Create a company dictionary to obtain answers for Task 2 and 3.\n",
    "            dic_co = {}\n",
    "            for key in company:\n",
    "                dic_co[key] = dic_co.get(key, 0)+1\n",
    "            num_co = len(dic_co)\n",
    "            percentage = round(max(dic_co.values())/num*100)\n",
    "            \n",
    "            ## Add double quotation marks to product name if there is a comma (,) .\n",
    "            if ',' in key_P:\n",
    "                key_P_p = '\\\"'+ key_P +'\\\"'    # Product key for print.\n",
    "            else:\n",
    "                key_P_p = key_P\n",
    "            \n",
    "            ##  Now, write to 'report.csv’\n",
    "            with open('./output/report.csv','a', newline = '') as f:\n",
    "                writer = csv.writer(f)\n",
    "                writer.writerow([key_P_p, key_Y, num, num_co, percentage])\n",
    "                print(key_P_p, key_Y, num, num_co,percentage)\n",
    "#                 print('\\n')"
   ]
  },
  {
   "cell_type": "code",
   "execution_count": null,
   "metadata": {},
   "outputs": [],
   "source": []
  }
 ],
 "metadata": {
  "kernelspec": {
   "display_name": "Python 3",
   "language": "python",
   "name": "python3"
  },
  "language_info": {
   "codemirror_mode": {
    "name": "ipython",
    "version": 3
   },
   "file_extension": ".py",
   "mimetype": "text/x-python",
   "name": "python",
   "nbconvert_exporter": "python",
   "pygments_lexer": "ipython3",
   "version": "3.7.3"
  }
 },
 "nbformat": 4,
 "nbformat_minor": 4
}
